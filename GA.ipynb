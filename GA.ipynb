{
 "cells": [
  {
   "cell_type": "code",
   "execution_count": 1,
   "metadata": {},
   "outputs": [],
   "source": [
    "import random\n",
    "\n",
    "class Chromosome():\n",
    "    def __init__(self, x, y, сoefficients = []):\n",
    "        self.x = x\n",
    "        self.y = y\n",
    "        self.сoefficients = сoefficients\n",
    "        self.fitness = None\n",
    "        \n",
    "    def RandomInit(self, PolynomialDegree, InitBounds):\n",
    "        self.сoefficients = []\n",
    "        for _ in range(PolynomialDegree+1):\n",
    "            self.сoefficients.append(random.uniform(InitBounds[0], InitBounds[1]))\n",
    "    \n",
    "    def GetFF(self):\n",
    "        if self.fitness == None:\n",
    "            self.EvaluateFF()\n",
    "        return self.fitness\n",
    "    \n",
    "    def EvaluateFF(self):\n",
    "        self.fitness = 0\n",
    "        for i in range(len(self.x)):\n",
    "            self.fitness += abs(self.y[i] - self.RegrModel(self.x[i]))\n",
    "        self.fitness /= len(self.x)\n",
    "            \n",
    "    def RegrModel(self, x):\n",
    "        res = 0\n",
    "        for i in range(len(self.сoefficients)):\n",
    "            res += self.сoefficients[i] * x**i\n",
    "        return res\n",
    "            \n",
    "    def Crossing(self, other):\n",
    "        BitMask = [random.choice([0, 1]) for _ in range(len(self.сoefficients))]\n",
    "        ParentCoefficients = [self.сoefficients, other.сoefficients]\n",
    "        сoefficients1 = [ParentCoefficients[BitMask[i]][i] for i in range(len(self.сoefficients))]\n",
    "        сoefficients2 = [ParentCoefficients[not BitMask[i]][i] for i in range(len(self.сoefficients))]\n",
    "        child1 = Chromosome(self.x, self.y, сoefficients1)\n",
    "        child2 = Chromosome(self.x, self.y, сoefficients2)\n",
    "        return (child1, child2)\n",
    "    \n",
    "    def Mutate(self, MutateBounds, MutateProb):\n",
    "        for i in range(len(self.сoefficients)):\n",
    "            if random.random() < MutateProb:\n",
    "                self.сoefficients[i] += random.uniform(MutateBounds[0], MutateBounds[1])"
   ]
  },
  {
   "cell_type": "code",
   "execution_count": 2,
   "metadata": {},
   "outputs": [],
   "source": [
    "class GeneticAlgorithm():\n",
    "    def __init__(self, x, y, PopSize = 50, MutateProb = 0.1, PolynomialDegree = 1, \n",
    "                 InitBounds = (-10, 10), MutateBounds = (-3, 3), GenLimit = 1000, Elite = 15):\n",
    "        self.x = x\n",
    "        self.y = y\n",
    "        self.PopSize = PopSize\n",
    "        self.MutateProb = MutateProb\n",
    "        self.PolynomialDegree = PolynomialDegree\n",
    "        self.InitBounds = InitBounds\n",
    "        self.MutateBounds = MutateBounds\n",
    "        self.Population = []\n",
    "        self.TempPop = []\n",
    "        self.GenLimit = GenLimit\n",
    "        self.GenNum = 0\n",
    "        self.history = []\n",
    "        self.Elite = Elite\n",
    "        self.BestInEachGen = []\n",
    "        \n",
    "    def Run(self):\n",
    "        if self.Population == []:\n",
    "            self.StartPopInit()\n",
    "        for i in range(self.GenLimit):\n",
    "            self.EvalPopFF()\n",
    "            self.history.append(self.MeanFF())\n",
    "            self.BestInEachGen.append(self.Population[0])\n",
    "            self.CrossOver()\n",
    "            self.Mutation()\n",
    "            self.NextGen()\n",
    "            self.GenNum += 1\n",
    "            \n",
    "    def StartPopInit(self):\n",
    "        self.Population = [Chromosome(self.x, self.y) for _ in range(self.PopSize)]\n",
    "        for i in range(self.PopSize):\n",
    "            self.Population[i].RandomInit(self.PolynomialDegree, self.InitBounds)\n",
    "            \n",
    "    def EvalPopFF(self):\n",
    "        for i in range(self.PopSize):\n",
    "            self.Population[i].EvaluateFF()\n",
    "            \n",
    "    def CrossOver(self):\n",
    "        self.TempPop = []\n",
    "        for i in range(self.PopSize):\n",
    "            parents = self.Selection()\n",
    "            childs = parents[0].Crossing(parents[1])\n",
    "            for i in range(len(childs)):\n",
    "                self.TempPop.append(childs[i])\n",
    "            \n",
    "    def Selection(self):\n",
    "        Weights = [1/(i+2) for i in range(self.PopSize)]\n",
    "        return random.choices(self.Population, weights = Weights, k = 2)\n",
    "    \n",
    "    def Mutation(self):\n",
    "        for i in range(self.PopSize):\n",
    "            self.TempPop[i].Mutate(self.MutateBounds, self.MutateProb)\n",
    "            \n",
    "    def NextGen(self):\n",
    "        sorted(self.Population, key = lambda x: x.GetFF())\n",
    "        sorted(self.TempPop, key = lambda x: x.GetFF())\n",
    "        j = 0\n",
    "        for i in range(self.Elite):\n",
    "            if self.TempPop[j].GetFF() <= self.Population[i].GetFF():\n",
    "                self.Population[i] = self.TempPop[j]\n",
    "                j+=1\n",
    "        for i in range(self.Elite, self.PopSize):\n",
    "            self.Population[i] = self.TempPop[j]\n",
    "            j+=1\n",
    "    \n",
    "    def MeanFF(self):\n",
    "        return sum([Ind.GetFF() for Ind in self.Population])/self.PopSize"
   ]
  },
  {
   "cell_type": "code",
   "execution_count": 3,
   "metadata": {},
   "outputs": [],
   "source": [
    "def func(x):\n",
    "    return x + 5\n",
    "\n",
    "DataSize = 20\n",
    "x = [i for i in range(DataSize)]\n",
    "y = [func(x[i]) + random.random() for i in range(DataSize)]"
   ]
  },
  {
   "cell_type": "code",
   "execution_count": 4,
   "metadata": {},
   "outputs": [],
   "source": [
    "GA = GeneticAlgorithm(x, y, PopSize = 100, MutateProb = 0.1, PolynomialDegree = 1,\n",
    "                      InitBounds = (-5, 5), MutateBounds = (-3, 3), GenLimit = 200, Elite = 70)\n",
    "GA.Run()"
   ]
  },
  {
   "cell_type": "code",
   "execution_count": 9,
   "metadata": {},
   "outputs": [
    {
     "data": {
      "image/png": "[encoded data removed]",
      "text/plain": [
       "<Figure size 864x576 with 1 Axes>"
      ]
     },
     "metadata": {
      "needs_background": "light"
     },
     "output_type": "display_data"
    }
   ],
   "source": [
    "import matplotlib.pyplot as plt\n",
    "\n",
    "start = 0\n",
    "stop = len(GA.history)\n",
    "\n",
    "fig = plt.figure(figsize=(12,8))\n",
    "graph0 = plt.plot([i for i in range(start, stop)], GA.history[start:stop], color = 'black')\n",
    "grid1 = plt.grid(True)\n",
    "plt.show()"
   ]
  }
 ],
 "metadata": {
  "kernelspec": {
   "display_name": "Python 3",
   "language": "python",
   "name": "python3"
  },
  "language_info": {
   "codemirror_mode": {
    "name": "ipython",
    "version": 3
   },
   "file_extension": ".py",
   "mimetype": "text/x-python",
   "name": "python",
   "nbconvert_exporter": "python",
   "pygments_lexer": "ipython3",
   "version": "3.7.1"
  }
 },
 "nbformat": 4,
 "nbformat_minor": 2
}
